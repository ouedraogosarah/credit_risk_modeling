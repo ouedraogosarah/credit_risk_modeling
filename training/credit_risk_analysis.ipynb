{
 "cells": [
  {
   "cell_type": "markdown",
   "id": "96e9323c-ca5a-4bd9-8ff0-7ceda8d97d51",
   "metadata": {},
   "source": [
    "<h2 align='center'; style='color:blue'>Credit Risk Modeling</h2>"
   ]
  },
  {
   "cell_type": "markdown",
   "id": "7e05041f-2486-4b96-a34d-31b70ee78d63",
   "metadata": {},
   "source": [
    "### Import Libraries"
   ]
  },
  {
   "cell_type": "code",
   "execution_count": 1,
   "id": "6672f63d-81de-4bf0-80cc-220d7dfd51b0",
   "metadata": {},
   "outputs": [],
   "source": [
    "##Import libraries\n",
    "import pandas as pd\n",
    "import numpy as np\n",
    "import matplotlib.pyplot as plt\n",
    "import seaborn as sns\n",
    "from sklearn.model_selection import train_test_split, RandomizedSearchCV, cross_val_score\n",
    "from sklearn.preprocessing import MinMaxScaler\n",
    "from sklearn.linear_model import LogisticRegression\n",
    "from sklearn.ensemble import RandomForestClassifier\n",
    "from xgboost import XGBClassifier\n",
    "from sklearn.metrics import classification_report, make_scorer, f1_score, auc, roc_curve\n",
    "from scipy.stats import uniform, randint\n",
    "from imblearn.combine import SMOTETomek\n",
    "from imblearn.under_sampling import RandomUnderSampler\n",
    "import optuna\n",
    "from joblib import dump\n",
    "\n",
    "\n",
    "pd.set_option('display.float_format', lambda x: '{:.2f}'.format(x))\n",
    "np.set_printoptions(suppress=True)\n",
    "\n",
    "import warnings\n",
    "warnings.filterwarnings('ignore')"
   ]
  },
  {
   "cell_type": "markdown",
   "id": "08ccdf09-05cb-4f2a-92cf-f29f81556757",
   "metadata": {},
   "source": [
    "### Load Data"
   ]
  },
  {
   "cell_type": "code",
   "execution_count": 2,
   "id": "d591bc58-916d-4d58-833e-7df6036e9d8b",
   "metadata": {},
   "outputs": [
    {
     "ename": "FileNotFoundError",
     "evalue": "[Errno 2] No such file or directory: 'dataset/customers.csv'",
     "output_type": "error",
     "traceback": [
      "\u001b[0;31m---------------------------------------------------------------------------\u001b[0m",
      "\u001b[0;31mFileNotFoundError\u001b[0m                         Traceback (most recent call last)",
      "Cell \u001b[0;32mIn[2], line 1\u001b[0m\n\u001b[0;32m----> 1\u001b[0m df_customers \u001b[38;5;241m=\u001b[39m \u001b[43mpd\u001b[49m\u001b[38;5;241;43m.\u001b[39;49m\u001b[43mread_csv\u001b[49m\u001b[43m(\u001b[49m\u001b[38;5;124;43m\"\u001b[39;49m\u001b[38;5;124;43mdataset/customers.csv\u001b[39;49m\u001b[38;5;124;43m\"\u001b[39;49m\u001b[43m)\u001b[49m\n\u001b[1;32m      2\u001b[0m df_loans \u001b[38;5;241m=\u001b[39m pd\u001b[38;5;241m.\u001b[39mread_csv(\u001b[38;5;124m\"\u001b[39m\u001b[38;5;124mdataset/loans.csv\u001b[39m\u001b[38;5;124m\"\u001b[39m)\n\u001b[1;32m      3\u001b[0m df_bureau \u001b[38;5;241m=\u001b[39m pd\u001b[38;5;241m.\u001b[39mread_csv(\u001b[38;5;124m\"\u001b[39m\u001b[38;5;124mdataset/bureau_data.CSV\u001b[39m\u001b[38;5;124m\"\u001b[39m)\n",
      "File \u001b[0;32m/Library/Frameworks/Python.framework/Versions/3.10/lib/python3.10/site-packages/pandas/io/parsers/readers.py:1026\u001b[0m, in \u001b[0;36mread_csv\u001b[0;34m(filepath_or_buffer, sep, delimiter, header, names, index_col, usecols, dtype, engine, converters, true_values, false_values, skipinitialspace, skiprows, skipfooter, nrows, na_values, keep_default_na, na_filter, verbose, skip_blank_lines, parse_dates, infer_datetime_format, keep_date_col, date_parser, date_format, dayfirst, cache_dates, iterator, chunksize, compression, thousands, decimal, lineterminator, quotechar, quoting, doublequote, escapechar, comment, encoding, encoding_errors, dialect, on_bad_lines, delim_whitespace, low_memory, memory_map, float_precision, storage_options, dtype_backend)\u001b[0m\n\u001b[1;32m   1013\u001b[0m kwds_defaults \u001b[38;5;241m=\u001b[39m _refine_defaults_read(\n\u001b[1;32m   1014\u001b[0m     dialect,\n\u001b[1;32m   1015\u001b[0m     delimiter,\n\u001b[0;32m   (...)\u001b[0m\n\u001b[1;32m   1022\u001b[0m     dtype_backend\u001b[38;5;241m=\u001b[39mdtype_backend,\n\u001b[1;32m   1023\u001b[0m )\n\u001b[1;32m   1024\u001b[0m kwds\u001b[38;5;241m.\u001b[39mupdate(kwds_defaults)\n\u001b[0;32m-> 1026\u001b[0m \u001b[38;5;28;01mreturn\u001b[39;00m \u001b[43m_read\u001b[49m\u001b[43m(\u001b[49m\u001b[43mfilepath_or_buffer\u001b[49m\u001b[43m,\u001b[49m\u001b[43m \u001b[49m\u001b[43mkwds\u001b[49m\u001b[43m)\u001b[49m\n",
      "File \u001b[0;32m/Library/Frameworks/Python.framework/Versions/3.10/lib/python3.10/site-packages/pandas/io/parsers/readers.py:620\u001b[0m, in \u001b[0;36m_read\u001b[0;34m(filepath_or_buffer, kwds)\u001b[0m\n\u001b[1;32m    617\u001b[0m _validate_names(kwds\u001b[38;5;241m.\u001b[39mget(\u001b[38;5;124m\"\u001b[39m\u001b[38;5;124mnames\u001b[39m\u001b[38;5;124m\"\u001b[39m, \u001b[38;5;28;01mNone\u001b[39;00m))\n\u001b[1;32m    619\u001b[0m \u001b[38;5;66;03m# Create the parser.\u001b[39;00m\n\u001b[0;32m--> 620\u001b[0m parser \u001b[38;5;241m=\u001b[39m \u001b[43mTextFileReader\u001b[49m\u001b[43m(\u001b[49m\u001b[43mfilepath_or_buffer\u001b[49m\u001b[43m,\u001b[49m\u001b[43m \u001b[49m\u001b[38;5;241;43m*\u001b[39;49m\u001b[38;5;241;43m*\u001b[39;49m\u001b[43mkwds\u001b[49m\u001b[43m)\u001b[49m\n\u001b[1;32m    622\u001b[0m \u001b[38;5;28;01mif\u001b[39;00m chunksize \u001b[38;5;129;01mor\u001b[39;00m iterator:\n\u001b[1;32m    623\u001b[0m     \u001b[38;5;28;01mreturn\u001b[39;00m parser\n",
      "File \u001b[0;32m/Library/Frameworks/Python.framework/Versions/3.10/lib/python3.10/site-packages/pandas/io/parsers/readers.py:1620\u001b[0m, in \u001b[0;36mTextFileReader.__init__\u001b[0;34m(self, f, engine, **kwds)\u001b[0m\n\u001b[1;32m   1617\u001b[0m     \u001b[38;5;28mself\u001b[39m\u001b[38;5;241m.\u001b[39moptions[\u001b[38;5;124m\"\u001b[39m\u001b[38;5;124mhas_index_names\u001b[39m\u001b[38;5;124m\"\u001b[39m] \u001b[38;5;241m=\u001b[39m kwds[\u001b[38;5;124m\"\u001b[39m\u001b[38;5;124mhas_index_names\u001b[39m\u001b[38;5;124m\"\u001b[39m]\n\u001b[1;32m   1619\u001b[0m \u001b[38;5;28mself\u001b[39m\u001b[38;5;241m.\u001b[39mhandles: IOHandles \u001b[38;5;241m|\u001b[39m \u001b[38;5;28;01mNone\u001b[39;00m \u001b[38;5;241m=\u001b[39m \u001b[38;5;28;01mNone\u001b[39;00m\n\u001b[0;32m-> 1620\u001b[0m \u001b[38;5;28mself\u001b[39m\u001b[38;5;241m.\u001b[39m_engine \u001b[38;5;241m=\u001b[39m \u001b[38;5;28;43mself\u001b[39;49m\u001b[38;5;241;43m.\u001b[39;49m\u001b[43m_make_engine\u001b[49m\u001b[43m(\u001b[49m\u001b[43mf\u001b[49m\u001b[43m,\u001b[49m\u001b[43m \u001b[49m\u001b[38;5;28;43mself\u001b[39;49m\u001b[38;5;241;43m.\u001b[39;49m\u001b[43mengine\u001b[49m\u001b[43m)\u001b[49m\n",
      "File \u001b[0;32m/Library/Frameworks/Python.framework/Versions/3.10/lib/python3.10/site-packages/pandas/io/parsers/readers.py:1880\u001b[0m, in \u001b[0;36mTextFileReader._make_engine\u001b[0;34m(self, f, engine)\u001b[0m\n\u001b[1;32m   1878\u001b[0m     \u001b[38;5;28;01mif\u001b[39;00m \u001b[38;5;124m\"\u001b[39m\u001b[38;5;124mb\u001b[39m\u001b[38;5;124m\"\u001b[39m \u001b[38;5;129;01mnot\u001b[39;00m \u001b[38;5;129;01min\u001b[39;00m mode:\n\u001b[1;32m   1879\u001b[0m         mode \u001b[38;5;241m+\u001b[39m\u001b[38;5;241m=\u001b[39m \u001b[38;5;124m\"\u001b[39m\u001b[38;5;124mb\u001b[39m\u001b[38;5;124m\"\u001b[39m\n\u001b[0;32m-> 1880\u001b[0m \u001b[38;5;28mself\u001b[39m\u001b[38;5;241m.\u001b[39mhandles \u001b[38;5;241m=\u001b[39m \u001b[43mget_handle\u001b[49m\u001b[43m(\u001b[49m\n\u001b[1;32m   1881\u001b[0m \u001b[43m    \u001b[49m\u001b[43mf\u001b[49m\u001b[43m,\u001b[49m\n\u001b[1;32m   1882\u001b[0m \u001b[43m    \u001b[49m\u001b[43mmode\u001b[49m\u001b[43m,\u001b[49m\n\u001b[1;32m   1883\u001b[0m \u001b[43m    \u001b[49m\u001b[43mencoding\u001b[49m\u001b[38;5;241;43m=\u001b[39;49m\u001b[38;5;28;43mself\u001b[39;49m\u001b[38;5;241;43m.\u001b[39;49m\u001b[43moptions\u001b[49m\u001b[38;5;241;43m.\u001b[39;49m\u001b[43mget\u001b[49m\u001b[43m(\u001b[49m\u001b[38;5;124;43m\"\u001b[39;49m\u001b[38;5;124;43mencoding\u001b[39;49m\u001b[38;5;124;43m\"\u001b[39;49m\u001b[43m,\u001b[49m\u001b[43m \u001b[49m\u001b[38;5;28;43;01mNone\u001b[39;49;00m\u001b[43m)\u001b[49m\u001b[43m,\u001b[49m\n\u001b[1;32m   1884\u001b[0m \u001b[43m    \u001b[49m\u001b[43mcompression\u001b[49m\u001b[38;5;241;43m=\u001b[39;49m\u001b[38;5;28;43mself\u001b[39;49m\u001b[38;5;241;43m.\u001b[39;49m\u001b[43moptions\u001b[49m\u001b[38;5;241;43m.\u001b[39;49m\u001b[43mget\u001b[49m\u001b[43m(\u001b[49m\u001b[38;5;124;43m\"\u001b[39;49m\u001b[38;5;124;43mcompression\u001b[39;49m\u001b[38;5;124;43m\"\u001b[39;49m\u001b[43m,\u001b[49m\u001b[43m \u001b[49m\u001b[38;5;28;43;01mNone\u001b[39;49;00m\u001b[43m)\u001b[49m\u001b[43m,\u001b[49m\n\u001b[1;32m   1885\u001b[0m \u001b[43m    \u001b[49m\u001b[43mmemory_map\u001b[49m\u001b[38;5;241;43m=\u001b[39;49m\u001b[38;5;28;43mself\u001b[39;49m\u001b[38;5;241;43m.\u001b[39;49m\u001b[43moptions\u001b[49m\u001b[38;5;241;43m.\u001b[39;49m\u001b[43mget\u001b[49m\u001b[43m(\u001b[49m\u001b[38;5;124;43m\"\u001b[39;49m\u001b[38;5;124;43mmemory_map\u001b[39;49m\u001b[38;5;124;43m\"\u001b[39;49m\u001b[43m,\u001b[49m\u001b[43m \u001b[49m\u001b[38;5;28;43;01mFalse\u001b[39;49;00m\u001b[43m)\u001b[49m\u001b[43m,\u001b[49m\n\u001b[1;32m   1886\u001b[0m \u001b[43m    \u001b[49m\u001b[43mis_text\u001b[49m\u001b[38;5;241;43m=\u001b[39;49m\u001b[43mis_text\u001b[49m\u001b[43m,\u001b[49m\n\u001b[1;32m   1887\u001b[0m \u001b[43m    \u001b[49m\u001b[43merrors\u001b[49m\u001b[38;5;241;43m=\u001b[39;49m\u001b[38;5;28;43mself\u001b[39;49m\u001b[38;5;241;43m.\u001b[39;49m\u001b[43moptions\u001b[49m\u001b[38;5;241;43m.\u001b[39;49m\u001b[43mget\u001b[49m\u001b[43m(\u001b[49m\u001b[38;5;124;43m\"\u001b[39;49m\u001b[38;5;124;43mencoding_errors\u001b[39;49m\u001b[38;5;124;43m\"\u001b[39;49m\u001b[43m,\u001b[49m\u001b[43m \u001b[49m\u001b[38;5;124;43m\"\u001b[39;49m\u001b[38;5;124;43mstrict\u001b[39;49m\u001b[38;5;124;43m\"\u001b[39;49m\u001b[43m)\u001b[49m\u001b[43m,\u001b[49m\n\u001b[1;32m   1888\u001b[0m \u001b[43m    \u001b[49m\u001b[43mstorage_options\u001b[49m\u001b[38;5;241;43m=\u001b[39;49m\u001b[38;5;28;43mself\u001b[39;49m\u001b[38;5;241;43m.\u001b[39;49m\u001b[43moptions\u001b[49m\u001b[38;5;241;43m.\u001b[39;49m\u001b[43mget\u001b[49m\u001b[43m(\u001b[49m\u001b[38;5;124;43m\"\u001b[39;49m\u001b[38;5;124;43mstorage_options\u001b[39;49m\u001b[38;5;124;43m\"\u001b[39;49m\u001b[43m,\u001b[49m\u001b[43m \u001b[49m\u001b[38;5;28;43;01mNone\u001b[39;49;00m\u001b[43m)\u001b[49m\u001b[43m,\u001b[49m\n\u001b[1;32m   1889\u001b[0m \u001b[43m\u001b[49m\u001b[43m)\u001b[49m\n\u001b[1;32m   1890\u001b[0m \u001b[38;5;28;01massert\u001b[39;00m \u001b[38;5;28mself\u001b[39m\u001b[38;5;241m.\u001b[39mhandles \u001b[38;5;129;01mis\u001b[39;00m \u001b[38;5;129;01mnot\u001b[39;00m \u001b[38;5;28;01mNone\u001b[39;00m\n\u001b[1;32m   1891\u001b[0m f \u001b[38;5;241m=\u001b[39m \u001b[38;5;28mself\u001b[39m\u001b[38;5;241m.\u001b[39mhandles\u001b[38;5;241m.\u001b[39mhandle\n",
      "File \u001b[0;32m/Library/Frameworks/Python.framework/Versions/3.10/lib/python3.10/site-packages/pandas/io/common.py:873\u001b[0m, in \u001b[0;36mget_handle\u001b[0;34m(path_or_buf, mode, encoding, compression, memory_map, is_text, errors, storage_options)\u001b[0m\n\u001b[1;32m    868\u001b[0m \u001b[38;5;28;01melif\u001b[39;00m \u001b[38;5;28misinstance\u001b[39m(handle, \u001b[38;5;28mstr\u001b[39m):\n\u001b[1;32m    869\u001b[0m     \u001b[38;5;66;03m# Check whether the filename is to be opened in binary mode.\u001b[39;00m\n\u001b[1;32m    870\u001b[0m     \u001b[38;5;66;03m# Binary mode does not support 'encoding' and 'newline'.\u001b[39;00m\n\u001b[1;32m    871\u001b[0m     \u001b[38;5;28;01mif\u001b[39;00m ioargs\u001b[38;5;241m.\u001b[39mencoding \u001b[38;5;129;01mand\u001b[39;00m \u001b[38;5;124m\"\u001b[39m\u001b[38;5;124mb\u001b[39m\u001b[38;5;124m\"\u001b[39m \u001b[38;5;129;01mnot\u001b[39;00m \u001b[38;5;129;01min\u001b[39;00m ioargs\u001b[38;5;241m.\u001b[39mmode:\n\u001b[1;32m    872\u001b[0m         \u001b[38;5;66;03m# Encoding\u001b[39;00m\n\u001b[0;32m--> 873\u001b[0m         handle \u001b[38;5;241m=\u001b[39m \u001b[38;5;28;43mopen\u001b[39;49m\u001b[43m(\u001b[49m\n\u001b[1;32m    874\u001b[0m \u001b[43m            \u001b[49m\u001b[43mhandle\u001b[49m\u001b[43m,\u001b[49m\n\u001b[1;32m    875\u001b[0m \u001b[43m            \u001b[49m\u001b[43mioargs\u001b[49m\u001b[38;5;241;43m.\u001b[39;49m\u001b[43mmode\u001b[49m\u001b[43m,\u001b[49m\n\u001b[1;32m    876\u001b[0m \u001b[43m            \u001b[49m\u001b[43mencoding\u001b[49m\u001b[38;5;241;43m=\u001b[39;49m\u001b[43mioargs\u001b[49m\u001b[38;5;241;43m.\u001b[39;49m\u001b[43mencoding\u001b[49m\u001b[43m,\u001b[49m\n\u001b[1;32m    877\u001b[0m \u001b[43m            \u001b[49m\u001b[43merrors\u001b[49m\u001b[38;5;241;43m=\u001b[39;49m\u001b[43merrors\u001b[49m\u001b[43m,\u001b[49m\n\u001b[1;32m    878\u001b[0m \u001b[43m            \u001b[49m\u001b[43mnewline\u001b[49m\u001b[38;5;241;43m=\u001b[39;49m\u001b[38;5;124;43m\"\u001b[39;49m\u001b[38;5;124;43m\"\u001b[39;49m\u001b[43m,\u001b[49m\n\u001b[1;32m    879\u001b[0m \u001b[43m        \u001b[49m\u001b[43m)\u001b[49m\n\u001b[1;32m    880\u001b[0m     \u001b[38;5;28;01melse\u001b[39;00m:\n\u001b[1;32m    881\u001b[0m         \u001b[38;5;66;03m# Binary mode\u001b[39;00m\n\u001b[1;32m    882\u001b[0m         handle \u001b[38;5;241m=\u001b[39m \u001b[38;5;28mopen\u001b[39m(handle, ioargs\u001b[38;5;241m.\u001b[39mmode)\n",
      "\u001b[0;31mFileNotFoundError\u001b[0m: [Errno 2] No such file or directory: 'dataset/customers.csv'"
     ]
    }
   ],
   "source": [
    "df_customers = pd.read_csv(\"dataset/customers.csv\")\n",
    "df_loans = pd.read_csv(\"dataset/loans.csv\")\n",
    "df_bureau = pd.read_csv(\"dataset/bureau_data.CSV\")"
   ]
  },
  {
   "cell_type": "code",
   "execution_count": null,
   "id": "fc8a77ad-68b0-4f11-8c81-17fc9e94cf65",
   "metadata": {},
   "outputs": [],
   "source": [
    "#checking the number of rows and columns in each dataset\n",
    "df_customers.shape, df_loans.shape, df_bureau.shape"
   ]
  },
  {
   "cell_type": "code",
   "execution_count": null,
   "id": "c61b0ff0-6cdd-46e5-ba4a-ab0f5c204f1f",
   "metadata": {},
   "outputs": [],
   "source": [
    "df_bureau.head()"
   ]
  },
  {
   "cell_type": "code",
   "execution_count": null,
   "id": "8f172ee3-879e-45dc-b96e-c846c87de7b0",
   "metadata": {},
   "outputs": [],
   "source": [
    "df_customers.head()"
   ]
  },
  {
   "cell_type": "code",
   "execution_count": null,
   "id": "c3f1b350-c74b-47dd-ba04-025e8966c120",
   "metadata": {},
   "outputs": [],
   "source": [
    "df_loans.head()"
   ]
  },
  {
   "cell_type": "code",
   "execution_count": null,
   "id": "405f0ed2-3398-4d80-9e5d-09b787e50906",
   "metadata": {},
   "outputs": [],
   "source": [
    "#merge data\n",
    "df=pd.merge(df_customers,df_loans, on='cust_id')"
   ]
  },
  {
   "cell_type": "code",
   "execution_count": null,
   "id": "25f5da00-a7b0-4945-8f40-c423351f1278",
   "metadata": {},
   "outputs": [],
   "source": [
    "df=pd.merge(df,df_bureau, on='cust_id')"
   ]
  },
  {
   "cell_type": "code",
   "execution_count": null,
   "id": "1748df1f-4773-4f65-9889-a9e90a9c9e65",
   "metadata": {},
   "outputs": [],
   "source": [
    "df.head()"
   ]
  },
  {
   "cell_type": "code",
   "execution_count": null,
   "id": "d20e6d79-5587-4ef1-aa48-33e3ab7b28e4",
   "metadata": {},
   "outputs": [],
   "source": [
    "#check column type\n",
    "df.info()"
   ]
  },
  {
   "cell_type": "code",
   "execution_count": null,
   "id": "1c629fd3-8351-421c-867e-e59b0b980165",
   "metadata": {},
   "outputs": [],
   "source": [
    "#convert target variable from boolean to integer\n",
    "df['default']=df['default'].astype(int)\n",
    "#count of each class\n",
    "df['default'].value_counts() # there is a class unbalance"
   ]
  },
  {
   "cell_type": "code",
   "execution_count": null,
   "id": "82122785-bbaf-40c4-8ac1-804a7449fb48",
   "metadata": {},
   "outputs": [],
   "source": [
    "#To avoid data leakage/train-test contamination(when train dataset has some influence in test dataset)\n",
    "#target leakage is when some of the features which were used in train dataset are missing in the test data\n",
    "#let's first split the data into train and test before doing any transformation\n",
    "\n",
    "X = df.drop(\"default\", axis=1)\n",
    "y = df['default']\n",
    "\n",
    "# train-test split with stratify=y to preserve class distribution in train and test\n",
    "X_train, X_test, y_train, y_test = train_test_split(X, y, stratify=y, test_size=0.25, random_state=42)\n",
    "\n",
    "#concat train data and test data\n",
    "df_train=pd.concat([X_train, y_train], axis=1)\n",
    "df_test=pd.concat([X_test, y_test], axis=1)"
   ]
  },
  {
   "cell_type": "markdown",
   "id": "b6caf618-94c4-4350-8c06-47e0ee657440",
   "metadata": {},
   "source": [
    "<h3 align=\"center\" style=\"color:blue\">Data Cleaning</h3>"
   ]
  },
  {
   "cell_type": "markdown",
   "id": "9f94f684-19d8-44ac-9167-f4fb263b47e5",
   "metadata": {},
   "source": [
    "### Handle Missing & Duplicate Values"
   ]
  },
  {
   "cell_type": "code",
   "execution_count": null,
   "id": "6c3b213d-5132-423e-a716-257bdef2c5c5",
   "metadata": {},
   "outputs": [],
   "source": [
    "#check na values\n",
    "df_train.isna().sum()"
   ]
  },
  {
   "cell_type": "code",
   "execution_count": null,
   "id": "3cc80150-0678-4ca4-aec4-36eda2d46629",
   "metadata": {},
   "outputs": [],
   "source": [
    "df_train.residence_type.unique()"
   ]
  },
  {
   "cell_type": "code",
   "execution_count": null,
   "id": "5b31c73d-8f83-4250-b377-f2971c33ac78",
   "metadata": {},
   "outputs": [],
   "source": [
    "#replace na with mode\n",
    "mode_residence= df_train.residence_type.mode()[0]\n",
    "mode_residence"
   ]
  },
  {
   "cell_type": "code",
   "execution_count": null,
   "id": "4ad8297b-8bfd-4c3d-b9f8-9412d9e9d3d4",
   "metadata": {},
   "outputs": [],
   "source": [
    "df_train.residence_type.fillna(mode_residence, inplace=True)\n",
    "df_train.residence_type.unique()\n"
   ]
  },
  {
   "cell_type": "code",
   "execution_count": null,
   "id": "a36ab678-9bc0-41d4-81b8-365d99a61d18",
   "metadata": {},
   "outputs": [],
   "source": [
    "df_test.residence_type.fillna(mode_residence, inplace=True)"
   ]
  },
  {
   "cell_type": "code",
   "execution_count": null,
   "id": "be586fda-b362-41e0-bf99-fdb7bc62cae9",
   "metadata": {},
   "outputs": [],
   "source": [
    "#check for duplicate rows\n",
    "df_train.duplicated().sum()"
   ]
  },
  {
   "cell_type": "code",
   "execution_count": null,
   "id": "6fdcdce6-e152-4a67-822b-872d21ac2c6b",
   "metadata": {},
   "outputs": [],
   "source": [
    "#create lists for continuous and categorical columns\n",
    "columns_continuous = ['age', 'income', 'number_of_dependants', 'years_at_current_address',\n",
    "                      'sanction_amount', 'loan_amount', 'processing_fee', 'gst', 'net_disbursement',\n",
    "                      'loan_tenure_months','principal_outstanding', 'bank_balance_at_application',\n",
    "                      'number_of_open_accounts','number_of_closed_accounts', 'total_loan_months', 'delinquent_months',\n",
    "                       'total_dpd', 'enquiry_count', 'credit_utilization_ratio']\n",
    "\n",
    "columns_categorical = ['gender', 'marital_status', 'employment_status', 'residence_type', 'city',\n",
    "                       'state', 'zipcode', 'loan_purpose', 'loan_type', 'default']"
   ]
  },
  {
   "cell_type": "markdown",
   "id": "be66889e-a1da-43dd-bee7-35d4a7a57b2c",
   "metadata": {},
   "source": [
    "### Box plot to visualize outliers"
   ]
  },
  {
   "cell_type": "code",
   "execution_count": null,
   "id": "97a52514-bf0d-47f9-b004-36c54d0ddae9",
   "metadata": {},
   "outputs": [],
   "source": [
    "num_plots = len(columns_continuous)\n",
    "num_cols = 4  # Number of plots per row\n",
    "num_rows = (num_plots + num_cols - 1) // num_cols  # Calculate the number of rows needed\n",
    "\n",
    "fig, axes = plt.subplots(num_rows, num_cols, figsize=(5 * num_cols, 5 * num_rows))  # Adjust the figure size as needed\n",
    "axes = axes.flatten()  # Flatten the axes array for easier indexing\n",
    "\n",
    "for i, col in enumerate(columns_continuous):\n",
    "    sns.boxplot(x=df_train[col], ax=axes[i])\n",
    "    axes[i].set_title(col)  # Set the title to the name of the variable\n",
    "\n",
    "# If there are any empty plots (if the number of plots isn't a perfect multiple of num_cols), hide the axes\n",
    "for j in range(i + 1, num_rows * num_cols):\n",
    "    axes[j].axis('off')\n",
    "\n",
    "plt.tight_layout()\n",
    "plt.show()"
   ]
  },
  {
   "cell_type": "markdown",
   "id": "7eaad49d-9c23-4fad-9d80-54ca10dae1f3",
   "metadata": {},
   "source": [
    "### Histograms to visualise continuous variables distribution"
   ]
  },
  {
   "cell_type": "code",
   "execution_count": null,
   "id": "20961181-32ab-44ff-9763-63e03ab35b98",
   "metadata": {},
   "outputs": [],
   "source": [
    "num_plots = len(columns_continuous)\n",
    "num_cols = 4  # Number of plots per row\n",
    "num_rows = (num_plots + num_cols - 1) // num_cols  # Calculate the number of rows needed\n",
    "\n",
    "fig, axes = plt.subplots(num_rows, num_cols, figsize=(5 * num_cols, 5 * num_rows))  # Adjust the figure size as needed\n",
    "axes = axes.flatten()  # Flatten the axes array for easier indexing\n",
    "\n",
    "for i, col in enumerate(columns_continuous):\n",
    "    sns.histplot(df_train[col], ax=axes[i])\n",
    "    axes[i].set_title(col)  # Set the title to the name of the variable\n",
    "\n",
    "# If there are any empty plots (if the number of plots isn't a perfect multiple of num_cols), hide the axes\n",
    "for j in range(i + 1, num_rows * num_cols):\n",
    "    axes[j].axis('off')\n",
    "\n",
    "plt.tight_layout()\n",
    "plt.show()"
   ]
  },
  {
   "cell_type": "markdown",
   "id": "c1d06e5d-7750-4fb1-8059-6698720c413a",
   "metadata": {},
   "source": [
    "### Outlier Removal: Processing Fee"
   ]
  },
  {
   "cell_type": "code",
   "execution_count": null,
   "id": "a6137f5f-05c3-48bb-be1e-f227e8dd6f06",
   "metadata": {},
   "outputs": [],
   "source": [
    "df_train['processing_fee'].describe()"
   ]
  },
  {
   "cell_type": "code",
   "execution_count": null,
   "id": "e617641a-143b-4d8e-883c-5d904a321c04",
   "metadata": {},
   "outputs": [],
   "source": [
    "#checking rows where processing fees are more than 3% assuming there are outliers\n",
    "df_train[(df_train.processing_fee/df_train.loan_amount)>0.03][[\"loan_amount\",\"processing_fee\"]]"
   ]
  },
  {
   "cell_type": "code",
   "execution_count": null,
   "id": "f0424998-1f8e-4cbf-9bb7-250e7d0b66db",
   "metadata": {},
   "outputs": [],
   "source": [
    "df_train_1 = df_train[df_train.processing_fee/df_train.loan_amount<0.03].copy()\n",
    "df_train_1.shape"
   ]
  },
  {
   "cell_type": "code",
   "execution_count": null,
   "id": "fb3f040a-dff7-4b1a-8fde-bb5dd3465b79",
   "metadata": {},
   "outputs": [],
   "source": [
    "# Apply same step on test set\n",
    "df_test = df_test[df_test.processing_fee/df_test.loan_amount<0.03].copy()\n",
    "df_test.shape"
   ]
  },
  {
   "cell_type": "code",
   "execution_count": null,
   "id": "939332c3-9732-4659-976a-8b9963aa62fd",
   "metadata": {},
   "outputs": [],
   "source": [
    "# Use other business rules for data validation\n",
    "# Rule 1: GST should not be more than 20%\n",
    "\n",
    "df_train_1[(df_train_1.gst/df_train_1.loan_amount)>0.2].shape"
   ]
  },
  {
   "cell_type": "code",
   "execution_count": null,
   "id": "c1212ae7-0b96-4461-9175-f1f56621054b",
   "metadata": {},
   "outputs": [],
   "source": [
    "# Rule 2: Net disbursement should not be higher than loan_amount\n",
    "df_train_1[df_train_1.net_disbursement>df_train_1.loan_amount].shape"
   ]
  },
  {
   "cell_type": "markdown",
   "id": "8be67d4e-5709-44b0-bcf1-062601c9d999",
   "metadata": {},
   "source": [
    "No rows found that breaks rule 1 and rule 2"
   ]
  },
  {
   "cell_type": "markdown",
   "id": "e09bb442-69e3-444e-98ba-56a0c0157414",
   "metadata": {},
   "source": [
    "### Analyzing categorical variables"
   ]
  },
  {
   "cell_type": "code",
   "execution_count": null,
   "id": "7a397392-75e6-4368-b990-3ec7b302d1de",
   "metadata": {},
   "outputs": [],
   "source": [
    "#checking for unique values in each categorical variables\n",
    "\n",
    "for col in columns_categorical:\n",
    "    print(col, \"-->\", df_train_1[col].unique())"
   ]
  },
  {
   "cell_type": "code",
   "execution_count": null,
   "id": "e2598c4f-6e66-435d-b0e8-ee6976185872",
   "metadata": {},
   "outputs": [],
   "source": [
    "#fixing error in loan purpose options in trainning and testing\n",
    "df_train_1['loan_purpose']=df_train_1['loan_purpose'].replace('Personaal', 'Personal')\n",
    "df_test['loan_purpose']=df_test['loan_purpose'].replace('Personaal', 'Personal')\n",
    "df_train_1.loan_purpose.unique()"
   ]
  },
  {
   "cell_type": "markdown",
   "id": "adab05bb-4b54-433b-9202-718f18ef6426",
   "metadata": {},
   "source": [
    "<h3 style=\"color:blue\" align=\"center\">Exploratory Data Analysis</h3>"
   ]
  },
  {
   "cell_type": "markdown",
   "id": "e10c63fa-8b48-4523-8a0f-a4292f912839",
   "metadata": {},
   "source": [
    "### Age Column"
   ]
  },
  {
   "cell_type": "code",
   "execution_count": null,
   "id": "038d4c0e-b4a5-453d-aa12-f0dabf145993",
   "metadata": {},
   "outputs": [],
   "source": [
    "df_train_1.groupby(\"default\")['age'].describe()"
   ]
  },
  {
   "cell_type": "markdown",
   "id": "dbf5c816-df8e-41f0-8e12-1b8ebba2eb50",
   "metadata": {},
   "source": [
    "**Insights**\n",
    "\n",
    "1. Average age in the default group is little less (37.12) than the average (39.7) of the group that did not default\n",
    "1. Variability (standard deviation) is mostly similar in both the groups\n",
    "1. Both the groups have similar min and max ages"
   ]
  },
  {
   "cell_type": "code",
   "execution_count": null,
   "id": "5cf40897-6511-44af-902b-05b4696694d3",
   "metadata": {},
   "outputs": [],
   "source": [
    "plt.figure(figsize=(8, 4))\n",
    "sns.kdeplot(df_train_1['age'][df_train_1['default'] == 0], fill=True, label='default=0')\n",
    "sns.kdeplot(df_train_1['age'][df_train_1['default'] == 1], fill=True, label='default=1')\n",
    "plt.title(f\"Age KDE Plot with Hue by default\")\n",
    "plt.legend()\n",
    "plt.show()"
   ]
  },
  {
   "cell_type": "markdown",
   "id": "07b8dbf7-a7da-4dc5-9801-7f64d7fb82a6",
   "metadata": {},
   "source": [
    "**Insights**\n",
    "\n",
    "1. Orange (defaulted) group is slightly shifted to left indicating that younger folks are more likely to default on their loans"
   ]
  },
  {
   "cell_type": "markdown",
   "id": "df3ed9a6-57b5-4506-a4e5-7daef5ba7146",
   "metadata": {},
   "source": [
    "### KDE for all the Columns"
   ]
  },
  {
   "cell_type": "code",
   "execution_count": null,
   "id": "b092ec1b-e958-49a8-adc8-bc966a382b05",
   "metadata": {},
   "outputs": [],
   "source": [
    "plt.figure(figsize=(24, 20))  # Width, height in inches\n",
    "\n",
    "for i, col in enumerate(columns_continuous):\n",
    "    plt.subplot(6, 4, i+1) \n",
    "    sns.kdeplot(df_train_1[col][df_train_1['default']==0], fill=True, label='default=0')\n",
    "    sns.kdeplot(df_train_1[col][df_train_1['default']==1], fill=True, label='default=1')\n",
    "    plt.title(col)\n",
    "    plt.xlabel('')\n",
    "\n",
    "plt.tight_layout()\n",
    "plt.show()"
   ]
  },
  {
   "cell_type": "markdown",
   "id": "ceb4236f-4da5-45c6-88da-324a3d2a2791",
   "metadata": {},
   "source": [
    "**Insights**\n",
    "\n",
    "1. In columns: loan_tenure_months, delinquent_months, total_dpd, credit_utilization, higher values indicate high likelyhood of becoming a default. Hence these 4 looks like strong predictors\n",
    "1. In remaining columns the distributions do not give any obvious insights\n",
    "1. loan_amount and income did not give any signs of being strong predictors. We will combine these two and get loan to income ratio (LTI), that may have influence on the target variable."
   ]
  },
  {
   "cell_type": "markdown",
   "id": "d1881cff-0134-44dc-a128-57997b588a9b",
   "metadata": {},
   "source": [
    "<h3 style=\"color:blue\" align=\"center\">Feature Engineering, Feature Selection</h3>"
   ]
  },
  {
   "cell_type": "markdown",
   "id": "9a7ba50a-32d6-4094-9f83-7c4c123905af",
   "metadata": {},
   "source": [
    "#### Generate Loan to Income (LTI) Ratio"
   ]
  },
  {
   "cell_type": "code",
   "execution_count": null,
   "id": "18d514c7-b762-44e8-97e9-0143085988c5",
   "metadata": {},
   "outputs": [],
   "source": [
    "#loan to income ratio for training data\n",
    "df_train_1['loan_to_income'] = round(df_train_1['loan_amount'] / df_train_1['income'],2)\n",
    "df_train_1['loan_to_income'].describe()"
   ]
  },
  {
   "cell_type": "code",
   "execution_count": null,
   "id": "767e4ad5-2b2f-4ea5-92bc-536ffefe0ffc",
   "metadata": {},
   "outputs": [],
   "source": [
    "#loan to income ratio for test data\n",
    "df_test['loan_to_income'] = round(df_test['loan_amount'] / df_test['income'],2)"
   ]
  },
  {
   "cell_type": "code",
   "execution_count": null,
   "id": "bf7452a5-9ff0-4ac4-98f0-dc656dec52dd",
   "metadata": {},
   "outputs": [],
   "source": [
    "#kde plot\n",
    "plt.figure(figsize=(8, 4))\n",
    "sns.kdeplot(df_train_1['loan_to_income'][df_train_1['default'] == 0], fill=True, label='default=0')\n",
    "sns.kdeplot(df_train_1['loan_to_income'][df_train_1['default'] == 1], fill=True, label='default=1')\n",
    "plt.title(f\"Loan to Income Ratio (LTI) KDE Plot with Hue by default\")\n",
    "plt.legend()\n",
    "plt.show()"
   ]
  },
  {
   "cell_type": "markdown",
   "id": "d950114e-09a6-4854-9cd0-b0b5d3bec329",
   "metadata": {},
   "source": [
    "**Insights**\n",
    "1. Blue graph has majority of its values on lower side of LTI\n",
    "2. Orange graph has many values when LTI is higher indicating that higher LTI means high risk loan"
   ]
  },
  {
   "cell_type": "markdown",
   "id": "09a11b61-6bfa-4089-8d5e-e8a0c035751f",
   "metadata": {},
   "source": [
    "#### Generate Delinquency Ratio"
   ]
  },
  {
   "cell_type": "code",
   "execution_count": null,
   "id": "aae42b5d-59d3-4512-af3c-5bcde7cae7b7",
   "metadata": {},
   "outputs": [],
   "source": [
    "df_train_1['delinquency_ratio'] = (df_train_1['delinquent_months']*100 / df_train_1['total_loan_months']).round(1)\n",
    "df_test['delinquency_ratio'] = (df_test['delinquent_months']*100 / df_test['total_loan_months']).round(1)"
   ]
  },
  {
   "cell_type": "code",
   "execution_count": null,
   "id": "faf63753-e4d5-49ee-b464-c30952e8e45e",
   "metadata": {},
   "outputs": [],
   "source": [
    "plt.figure(figsize=(8, 4))\n",
    "sns.kdeplot(df_train_1['delinquency_ratio'][df_train_1['default'] == 0], fill=True, label='default=0')\n",
    "sns.kdeplot(df_train_1['delinquency_ratio'][df_train_1['default'] == 1], fill=True, label='default=1')\n",
    "plt.title(f\"Delinquency Ratio KDE Plot with Hue by default\")\n",
    "plt.legend()\n",
    "plt.show()"
   ]
  },
  {
   "cell_type": "markdown",
   "id": "959c6df5-9989-4422-b4bd-ec04f7370ee8",
   "metadata": {},
   "source": [
    "**Insights**\n",
    "1. Blue graph has majority of its values on lower side of LTI\n",
    "2. Orange graph has many values when delinquency ratio is higher indicating some correlation on default"
   ]
  },
  {
   "cell_type": "markdown",
   "id": "21ac21e1-b803-44e3-9afd-b64a28dea23f",
   "metadata": {},
   "source": [
    "#### Generate Avg Days Past Due Per Delinquency"
   ]
  },
  {
   "cell_type": "code",
   "execution_count": null,
   "id": "51931d4a-02cb-4235-8d04-cba6298345d7",
   "metadata": {},
   "outputs": [],
   "source": [
    "# Avg DPD\n",
    "df_train_1['avg_dpd_per_delinquency'] = np.where(\n",
    "    df_train_1['delinquent_months'] != 0,\n",
    "    (df_train_1['total_dpd'] / df_train_1['delinquent_months']).round(1),\n",
    "    0\n",
    ")\n",
    "\n",
    "df_test['avg_dpd_per_delinquency'] = np.where(\n",
    "    df_test['delinquent_months'] != 0,\n",
    "    (df_test['total_dpd'] / df_test['delinquent_months']).round(1),\n",
    "    0\n",
    ")"
   ]
  },
  {
   "cell_type": "code",
   "execution_count": null,
   "id": "0ee15916-ae29-4ce2-8091-e2cd27f18cde",
   "metadata": {},
   "outputs": [],
   "source": [
    "# kde plot\n",
    "plt.figure(figsize=(8, 4))\n",
    "sns.kdeplot(df_train_1['avg_dpd_per_delinquency'][df_train_1['default'] == 0], fill=True, label='default=0')\n",
    "sns.kdeplot(df_train_1['avg_dpd_per_delinquency'][df_train_1['default'] == 1], fill=True, label='default=1')\n",
    "plt.title(f\"Avg DPD Per Delinquency Ratio KDE Plot with Hue by default\")\n",
    "plt.legend()\n",
    "plt.show()"
   ]
  },
  {
   "cell_type": "markdown",
   "id": "2a5d75a8-7449-49b4-9018-ec0647eac91d",
   "metadata": {},
   "source": [
    "**Insights**\n",
    "\n",
    "1. Graph clearly shows more occurances of default cases when avg_dpd_per_delinquency is high. This means this column is a strong predictor"
   ]
  },
  {
   "cell_type": "markdown",
   "id": "a722f562-6164-4d5b-8eba-d87a00153bc8",
   "metadata": {},
   "source": [
    "### Remove columns that are just unique ids and don't have influence on target"
   ]
  },
  {
   "cell_type": "code",
   "execution_count": null,
   "id": "18a8ecef-ee70-4d0d-adcb-f6fb81566cdc",
   "metadata": {},
   "outputs": [],
   "source": [
    "df_train_2 = df_train_1.drop(['cust_id', 'loan_id'],axis=\"columns\")\n",
    "df_test = df_test.drop(['cust_id', 'loan_id'],axis=\"columns\")"
   ]
  },
  {
   "cell_type": "markdown",
   "id": "6b0790e0-5c10-40db-84a4-221f185363d7",
   "metadata": {},
   "source": [
    "### Remove columns that business contact person asked us to remove"
   ]
  },
  {
   "cell_type": "code",
   "execution_count": null,
   "id": "a716c766-930a-481c-836e-263db8ab9ecf",
   "metadata": {},
   "outputs": [],
   "source": [
    "df_train_3 = df_train_2.drop(['disbursal_date', 'installment_start_dt', 'loan_amount', 'income',\n",
    "                              'total_loan_months', 'delinquent_months', 'total_dpd'], axis=\"columns\")\n",
    "df_test = df_test.drop(['disbursal_date', 'installment_start_dt', 'loan_amount', 'income',\n",
    "                              'total_loan_months', 'delinquent_months', 'total_dpd'], axis=\"columns\")\n",
    "df_train_3.columns"
   ]
  },
  {
   "cell_type": "markdown",
   "id": "c97e3b87-ea0d-45cb-b453-2a8a2a0e2b33",
   "metadata": {},
   "source": [
    "### VIF to measure multicolinearity"
   ]
  },
  {
   "cell_type": "code",
   "execution_count": null,
   "id": "f58dc624-d82a-4046-949b-cea2dd1c6f77",
   "metadata": {},
   "outputs": [],
   "source": [
    "df_train_3.select_dtypes(['int64', 'float64']).columns"
   ]
  },
  {
   "cell_type": "code",
   "execution_count": null,
   "id": "0c468f2a-ef1a-40ed-b80f-87bf35416577",
   "metadata": {},
   "outputs": [],
   "source": [
    "#select features in train\n",
    "X_train = df_train_3.drop('default', axis='columns')\n",
    "y_train = df_train_3['default']\n",
    "\n",
    "#scaling train data\n",
    "cols_to_scale = X_train.select_dtypes(['int64', 'float64']).columns\n",
    "\n",
    "scaler = MinMaxScaler()\n",
    "\n",
    "X_train[cols_to_scale] = scaler.fit_transform(X_train[cols_to_scale])\n",
    "X_train.describe()"
   ]
  },
  {
   "cell_type": "code",
   "execution_count": null,
   "id": "82abd555-bec3-400c-ac87-ac1c9fb50c48",
   "metadata": {},
   "outputs": [],
   "source": [
    "#select features in test\n",
    "X_test = df_test.drop('default', axis='columns')\n",
    "y_test = df_test['default']\n",
    "\n",
    "#scaling test data\n",
    "X_test[cols_to_scale] = scaler.transform(X_test[cols_to_scale])\n",
    "X_test.describe()"
   ]
  },
  {
   "cell_type": "code",
   "execution_count": null,
   "id": "6258d0eb-ff5a-4e56-84bc-331cbd806313",
   "metadata": {},
   "outputs": [],
   "source": [
    "from statsmodels.stats.outliers_influence import variance_inflation_factor\n",
    "\n",
    "def calculate_vif(data):\n",
    "    vif_df = pd.DataFrame()\n",
    "    vif_df['Column'] = data.columns\n",
    "    vif_df['VIF'] = [variance_inflation_factor(data.values,i) for i in range(data.shape[1])]\n",
    "    return vif_df\n",
    "\n",
    "X_train.head(2)"
   ]
  },
  {
   "cell_type": "code",
   "execution_count": null,
   "id": "562078f2-bdcc-4972-b8f2-bfdd58cf0b39",
   "metadata": {},
   "outputs": [],
   "source": [
    "vif_df = calculate_vif(X_train[cols_to_scale])\n",
    "vif_df"
   ]
  },
  {
   "cell_type": "code",
   "execution_count": null,
   "id": "c3b2021c-6b8c-4dd1-92ba-8225720e964a",
   "metadata": {},
   "outputs": [],
   "source": [
    "features_to_drop_vif = ['sanction_amount', 'processing_fee', 'gst', 'net_disbursement','principal_outstanding']\n",
    "\n",
    "\n",
    "X_train_1 = X_train.drop(features_to_drop_vif, axis='columns')\n",
    "numeric_columns = X_train_1.select_dtypes(['int64', 'float64']).columns\n",
    "numeric_columns"
   ]
  },
  {
   "cell_type": "code",
   "execution_count": null,
   "id": "95c211a6-a4ad-4afc-89ad-59503b1e5713",
   "metadata": {},
   "outputs": [],
   "source": [
    "vif_df = calculate_vif(X_train_1[numeric_columns])\n",
    "vif_df"
   ]
  },
  {
   "cell_type": "code",
   "execution_count": null,
   "id": "2d403935-397c-48fe-881c-d4cf4b8ca3af",
   "metadata": {},
   "outputs": [],
   "source": [
    "selected_numeric_features_vif = vif_df.Column.values\n",
    "selected_numeric_features_vif"
   ]
  },
  {
   "cell_type": "code",
   "execution_count": null,
   "id": "ba0852ff-7dea-4ebe-ab06-acbc769d7825",
   "metadata": {},
   "outputs": [],
   "source": [
    "plt.figure(figsize=(12,12))\n",
    "cm = df_train_3[numeric_columns.append(pd.Index(['default']))].corr()\n",
    "sns.heatmap(cm, annot=True, fmt='0.2f')\n",
    "plt.xticks(rotation=45, ha='right')\n",
    "plt.yticks(rotation=0)\n",
    "plt.tight_layout()\n",
    "plt.show()"
   ]
  },
  {
   "cell_type": "markdown",
   "id": "d74c502d-2796-4310-a7b0-969f1dc68cce",
   "metadata": {},
   "source": [
    "### Feature Selection: Categorical Features"
   ]
  },
  {
   "cell_type": "markdown",
   "id": "e5e3c67c-9a66-4c9d-bf74-afce73f29998",
   "metadata": {},
   "source": [
    "### Calculate Weight Of Evidence and Information Value"
   ]
  },
  {
   "cell_type": "code",
   "execution_count": null,
   "id": "2bc09e84-f428-463c-84cb-edcfcaad553b",
   "metadata": {},
   "outputs": [],
   "source": [
    "def calculate_woe_iv(df, feature, target):\n",
    "    grouped = df.groupby(feature)[target].agg(['count','sum'])\n",
    "    grouped = grouped.rename(columns={'count': 'total', 'sum': 'good'})\n",
    "    grouped['bad']=grouped['total']-grouped['good']\n",
    "\n",
    "    total_good = grouped['good'].sum()\n",
    "    total_bad = grouped['bad'].sum()\n",
    "\n",
    "    grouped['good_pct'] = grouped['good'] / total_good\n",
    "    grouped['bad_pct'] = grouped['bad'] / total_bad\n",
    "    grouped['woe'] = np.log(grouped['good_pct']/ grouped['bad_pct'])\n",
    "    grouped['iv'] = (grouped['good_pct'] -grouped['bad_pct'])*grouped['woe']\n",
    "\n",
    "    grouped['woe'] = grouped['woe'].replace([np.inf, -np.inf], 0)\n",
    "    grouped['iv'] = grouped['iv'].replace([np.inf, -np.inf], 0)\n",
    "\n",
    "    total_iv = grouped['iv'].sum()\n",
    "\n",
    "    return grouped, total_iv\n",
    "\n",
    "grouped, total_iv = calculate_woe_iv(pd.concat([X_train_1, y_train],axis=1), 'loan_purpose', 'default')\n",
    "grouped"
   ]
  },
  {
   "cell_type": "code",
   "execution_count": null,
   "id": "890c7655-832f-4152-8da5-4d9a422d378c",
   "metadata": {},
   "outputs": [],
   "source": [
    "iv_values = {}\n",
    "\n",
    "for feature in X_train_1.columns:\n",
    "    if X_train_1[feature].dtype == 'object':\n",
    "        _, iv = calculate_woe_iv(pd.concat([X_train_1, y_train],axis=1), feature, 'default' )\n",
    "    else:\n",
    "        X_binned = pd.cut(X_train_1[feature], bins=10, labels=False)\n",
    "        _, iv = calculate_woe_iv(pd.concat([X_binned, y_train],axis=1), feature, 'default' )\n",
    "    iv_values[feature] = iv\n",
    "\n",
    "iv_values"
   ]
  },
  {
   "cell_type": "code",
   "execution_count": null,
   "id": "a81e4456-c281-4e5b-9757-19a282cb99cf",
   "metadata": {},
   "outputs": [],
   "source": [
    "pd.set_option('display.float_format', lambda x: '{:.3f}'.format(x))\n",
    "\n",
    "iv_df = pd.DataFrame(list(iv_values.items()), columns=['Feature', 'IV'])\n",
    "iv_df = iv_df.sort_values(by='IV', ascending=False)\n",
    "iv_df"
   ]
  },
  {
   "cell_type": "code",
   "execution_count": null,
   "id": "f16232ee-22e0-4642-b0a7-d5aa08a13093",
   "metadata": {},
   "outputs": [],
   "source": [
    "# select features that has IV > 0.02\n",
    "selected_features_iv = [feature for feature, iv in iv_values.items() if iv > 0.02]\n",
    "selected_features_iv"
   ]
  },
  {
   "cell_type": "markdown",
   "id": "f83f49c4-9ffa-46a0-92da-c89bf8b1e2fc",
   "metadata": {},
   "source": [
    "### Feature Encoding"
   ]
  },
  {
   "cell_type": "code",
   "execution_count": null,
   "id": "8e7e3c83-a793-426d-bd60-be814ed66b4f",
   "metadata": {},
   "outputs": [],
   "source": [
    "X_train_reduced = X_train_1[selected_features_iv]\n",
    "X_test_reduced = X_test[selected_features_iv]"
   ]
  },
  {
   "cell_type": "code",
   "execution_count": null,
   "id": "286662cd-eb04-4ead-bb98-8b67c3ce4d94",
   "metadata": {},
   "outputs": [],
   "source": [
    "X_train_encoded = pd.get_dummies(X_train_reduced, drop_first=True)\n",
    "X_train_encoded.head(3)"
   ]
  },
  {
   "cell_type": "code",
   "execution_count": null,
   "id": "949b4c3c-0724-4c87-a4cb-21d2a6166396",
   "metadata": {},
   "outputs": [],
   "source": [
    "X_test_encoded = pd.get_dummies(X_test_reduced, drop_first=True)\n",
    "X_test_encoded.head(3)"
   ]
  },
  {
   "cell_type": "markdown",
   "id": "2e98d3ac-d95c-4fa1-ad1c-827056da3639",
   "metadata": {},
   "source": [
    "<h3 align=\"center\" style=\"color:blue\">Model Training</h3>"
   ]
  },
  {
   "cell_type": "markdown",
   "id": "f0949502-c252-4b3c-b7ec-f41c5098de46",
   "metadata": {},
   "source": [
    "### Attempt 1\n",
    "\n",
    "1. Logistic Regression, RandomForest & XGB\n",
    "1. No handling of class imbalance"
   ]
  },
  {
   "cell_type": "code",
   "execution_count": null,
   "id": "6b65241d-c611-473a-841a-322288e57262",
   "metadata": {},
   "outputs": [],
   "source": [
    "# logistic regression\n",
    "model = LogisticRegression()\n",
    "model.fit(X_train_encoded, y_train)\n",
    "\n",
    "y_pred = model.predict(X_test_encoded)\n",
    "report = classification_report(y_test, y_pred)\n",
    "print(report)"
   ]
  },
  {
   "cell_type": "code",
   "execution_count": null,
   "id": "d948a468-c3c9-42e9-9f4f-f609f8d9502a",
   "metadata": {},
   "outputs": [],
   "source": [
    "#visualize feature importance\n",
    "feature_importance = model.coef_[0]\n",
    "\n",
    "# Create a DataFrame for easier handling\n",
    "coef_df = pd.DataFrame(feature_importance, index=X_train_encoded.columns, columns=['Coefficients'])\n",
    "\n",
    "# Sort the coefficients for better visualization\n",
    "coef_df = coef_df.sort_values(by='Coefficients', ascending=True)\n",
    "\n",
    "# Plotting\n",
    "plt.figure(figsize=(8, 4))\n",
    "plt.barh(coef_df.index, coef_df['Coefficients'], color='steelblue')\n",
    "plt.xlabel('Coefficient Value')\n",
    "plt.title('Feature Importance in Logistic Regression')\n",
    "plt.show()"
   ]
  },
  {
   "cell_type": "code",
   "execution_count": null,
   "id": "fffde7e4-6397-4f0b-8c4c-4f6f71572aad",
   "metadata": {},
   "outputs": [],
   "source": [
    "# randomForest Classifier\n",
    "model = RandomForestClassifier()\n",
    "model.fit(X_train_encoded, y_train)\n",
    "\n",
    "y_pred = model.predict(X_test_encoded)\n",
    "report = classification_report(y_test, y_pred)\n",
    "print(report)"
   ]
  },
  {
   "cell_type": "code",
   "execution_count": null,
   "id": "bb272d12-b9f6-474c-a258-37e217ed4bd9",
   "metadata": {},
   "outputs": [],
   "source": [
    "# XGB classifier\n",
    "model = XGBClassifier()\n",
    "model.fit(X_train_encoded, y_train)\n",
    "\n",
    "y_pred = model.predict(X_test_encoded)\n",
    "report = classification_report(y_test, y_pred)\n",
    "print(report)"
   ]
  },
  {
   "cell_type": "markdown",
   "id": "4d76461c-11a3-4dd3-901d-7f944ad80620",
   "metadata": {},
   "source": [
    "There is not much difference between XGB and Logistic. Let's use do a Randomized Search CV on them."
   ]
  },
  {
   "cell_type": "markdown",
   "id": "2f5ec05c-010a-4fcf-9466-fc640f9e4b29",
   "metadata": {},
   "source": [
    "#### RandomizedSearch CV: Logistic Regression"
   ]
  },
  {
   "cell_type": "code",
   "execution_count": null,
   "id": "8dbfc5d8-3f52-4943-ac75-43a99b2677df",
   "metadata": {},
   "outputs": [],
   "source": [
    "# list different parameter options\n",
    "param_dist = {\n",
    "    'C': np.logspace(-4, 4, 20),  # Logarithmically spaced values from 10^-4 to 10^4\n",
    "    'solver': ['lbfgs', 'saga', 'liblinear', 'newton-cg']   # Algorithm to use in the optimization problem\n",
    "}\n",
    "\n",
    "# Create the Logistic Regression model\n",
    "log_reg = LogisticRegression(max_iter=10000)  # Increased max_iter for convergence\n",
    "\n",
    "# Set up RandomizedSearchCV\n",
    "random_search = RandomizedSearchCV(\n",
    "    estimator=log_reg,\n",
    "    param_distributions=param_dist,\n",
    "    n_iter=50,  # Number of parameter settings that are sampled\n",
    "    scoring='f1',\n",
    "    cv=3,  # 3-fold cross-validation\n",
    "    verbose=2,\n",
    "    random_state=42,  # Set a random state for reproducibility\n",
    "    n_jobs=-1  # Use all available cores\n",
    ")\n",
    "\n",
    "# Fit the RandomizedSearchCV to the training data\n",
    "random_search.fit(X_train_encoded, y_train)\n",
    "\n",
    "# Print the best parameters and best score\n",
    "print(f\"Best Parameters: {random_search.best_params_}\")\n",
    "print(f\"Best Score: {random_search.best_score_}\")\n",
    "\n",
    "best_model = random_search.best_estimator_\n",
    "y_pred = best_model.predict(X_test_encoded)\n",
    "print(\"Classification Report:\")\n",
    "print(classification_report(y_test, y_pred))"
   ]
  },
  {
   "cell_type": "markdown",
   "id": "f7d2e83c-909b-41bb-b7c5-451faef5f357",
   "metadata": {},
   "source": [
    "#### RandomizedSearch CV: XGBoost"
   ]
  },
  {
   "cell_type": "code",
   "execution_count": null,
   "id": "94de4bad-f1fd-4811-8746-387bd939779d",
   "metadata": {},
   "outputs": [],
   "source": [
    "\n",
    "# Define parameter distribution for RandomizedSearchCV\n",
    "param_dist = {\n",
    "    'n_estimators': [100, 150, 200, 250, 300],\n",
    "    'max_depth': [3, 4, 5, 6, 7, 8, 9, 10],\n",
    "    'learning_rate': [0.01, 0.03, 0.05, 0.1, 0.15, 0.2, 0.25, 0.3],\n",
    "    'subsample': [0.6, 0.7, 0.8, 0.9, 1.0],\n",
    "    'colsample_bytree': [0.6, 0.7, 0.8, 0.9, 1.0],\n",
    "    'scale_pos_weight': [1, 2, 3, 5, 7, 10],\n",
    "    'reg_alpha': [0.01, 0.1, 0.5, 1.0, 5.0, 10.0],  # L1 regularization term\n",
    "    'reg_lambda': [0.01, 0.1, 0.5, 1.0, 5.0, 10.0]  # L2 regularization term\n",
    "}\n",
    "\n",
    "xgb = XGBClassifier()\n",
    "\n",
    "random_search = RandomizedSearchCV(estimator=xgb, param_distributions=param_dist, n_iter=100,\n",
    "                                   scoring='f1', cv=3, verbose=1, n_jobs=-1, random_state=42)\n",
    "\n",
    "random_search.fit(X_train_encoded, y_train)\n",
    "\n",
    "# Print the best parameters and best score\n",
    "print(f\"Best Parameters: {random_search.best_params_}\")\n",
    "print(f\"Best Score: {random_search.best_score_}\")\n",
    "\n",
    "best_model = random_search.best_estimator_\n",
    "y_pred = best_model.predict(X_test_encoded)\n",
    "print(\"Classification Report:\")\n",
    "print(classification_report(y_test, y_pred))"
   ]
  },
  {
   "cell_type": "markdown",
   "id": "047fe970-d577-4a6b-aa40-c75d1336f4ac",
   "metadata": {},
   "source": [
    "### Attempt 2\n",
    "\n",
    "1. Logistic Regression & XGB\n",
    "1. Handle Class Imbalance Using Under Sampling"
   ]
  },
  {
   "cell_type": "code",
   "execution_count": null,
   "id": "37631934-32eb-48e6-b852-bf6cdb70dbf5",
   "metadata": {},
   "outputs": [],
   "source": [
    "# undersampling\n",
    "rus = RandomUnderSampler(random_state=42)\n",
    "X_train_res, y_train_res = rus.fit_resample(X_train_encoded, y_train)\n",
    "y_train_res.value_counts()"
   ]
  },
  {
   "cell_type": "code",
   "execution_count": null,
   "id": "3ca3f50c-f3f2-4d82-ae72-5664047f8434",
   "metadata": {},
   "outputs": [],
   "source": [
    "# logistic regression\n",
    "model = LogisticRegression()\n",
    "model.fit(X_train_res, y_train_res)\n",
    "\n",
    "y_pred = model.predict(X_test_encoded)\n",
    "report = classification_report(y_test, y_pred)\n",
    "print(report)"
   ]
  },
  {
   "cell_type": "code",
   "execution_count": null,
   "id": "68b8c6a7-96b1-46be-a064-04a6fb9c7e9e",
   "metadata": {},
   "outputs": [],
   "source": [
    "# XGBoost\n",
    "model = XGBClassifier(**random_search.best_params_)\n",
    "model.fit(X_train_res, y_train_res)\n",
    "\n",
    "y_pred = model.predict(X_test_encoded)\n",
    "report = classification_report(y_test, y_pred)\n",
    "print(report)"
   ]
  },
  {
   "cell_type": "markdown",
   "id": "21d921ec-0df8-4291-a84c-45e3cbe71edf",
   "metadata": {},
   "source": [
    "### Attempt 3\n",
    "\n",
    "1. Logistic Regression\n",
    "1. Handle Class Imbalance Using SMOTE Tomek\n",
    "1. Parameter tunning using optuna"
   ]
  },
  {
   "cell_type": "code",
   "execution_count": null,
   "id": "a27b3256-d51c-4092-92a7-df2983600b79",
   "metadata": {},
   "outputs": [],
   "source": [
    "# SMOTE Tomek\n",
    "from imblearn.combine import SMOTETomek\n",
    "\n",
    "\n",
    "smt = SMOTETomek(random_state=42)\n",
    "X_train_smt, y_train_smt = smt.fit_resample(X_train_encoded, y_train)\n",
    "y_train_smt.value_counts()"
   ]
  },
  {
   "cell_type": "code",
   "execution_count": null,
   "id": "2b2c6950-38fc-4532-ae3f-ffe754080542",
   "metadata": {},
   "outputs": [],
   "source": [
    "model = LogisticRegression()\n",
    "model.fit(X_train_smt, y_train_smt)\n",
    "\n",
    "y_pred = model.predict(X_test_encoded)\n",
    "report = classification_report(y_test, y_pred)\n",
    "print(report)"
   ]
  },
  {
   "cell_type": "code",
   "execution_count": null,
   "id": "65d73137-bc62-4ec9-bbad-4774e69a08b2",
   "metadata": {},
   "outputs": [],
   "source": [
    "# find best parameters with Optuna\n",
    "# Define the objective function for Optuna\n",
    "def objective(trial):\n",
    "    param = {\n",
    "        'C': trial.suggest_float('C', 1e-4, 1e4, log=True),  # Logarithmically spaced values\n",
    "        'solver': trial.suggest_categorical('solver', ['lbfgs', 'liblinear', 'saga', 'newton-cg']),  # Solvers\n",
    "        'tol': trial.suggest_float('tol', 1e-6, 1e-1, log=True),  # Logarithmically spaced values for tolerance\n",
    "        'class_weight': trial.suggest_categorical('class_weight', [None, 'balanced'])  # Class weights\n",
    "    }\n",
    "\n",
    "    model = LogisticRegression(**param, max_iter=10000)\n",
    "\n",
    "    # Calculate the cross-validated f1_score\n",
    "    f1_scorer = make_scorer(f1_score, average='macro')\n",
    "    scores = cross_val_score(model, X_train_smt, y_train_smt, cv=3, scoring=f1_scorer, n_jobs=-1)\n",
    "\n",
    "    return np.mean(scores)\n",
    "\n",
    "study_logistic = optuna.create_study(direction='maximize')\n",
    "study_logistic.optimize(objective, n_trials=50)"
   ]
  },
  {
   "cell_type": "code",
   "execution_count": null,
   "id": "3e993c9b-7f40-4597-82c2-c295df493d48",
   "metadata": {},
   "outputs": [],
   "source": [
    "print('Best trial:')\n",
    "trial = study_logistic.best_trial\n",
    "print('  F1-score: {}'.format(trial.value))\n",
    "print('  Params: ')\n",
    "for key, value in trial.params.items():\n",
    "    print('    {}: {}'.format(key, value))\n",
    "\n",
    "best_model_logistic = LogisticRegression(**study_logistic.best_params)\n",
    "best_model_logistic.fit(X_train_smt, y_train_smt)\n",
    "\n",
    "# Evaluate on the test set\n",
    "y_pred = best_model_logistic.predict(X_test_encoded)\n",
    "\n",
    "report = classification_report(y_test, y_pred)\n",
    "print(report)"
   ]
  },
  {
   "cell_type": "markdown",
   "id": "8d5d7813-def9-4d31-9113-6e7cbd85e39b",
   "metadata": {},
   "source": [
    "### Attempt 4\n",
    "\n",
    "1. XGBoost\n",
    "1. Handle Class Imbalance Using SMOTE Tomek\n",
    "1. Parameter tunning using optuna"
   ]
  },
  {
   "cell_type": "code",
   "execution_count": null,
   "id": "32a3a637-4076-422d-b566-322ad04a04ba",
   "metadata": {},
   "outputs": [],
   "source": [
    "# Define the objective function for Optuna\n",
    "def objective(trial):\n",
    "    param = {\n",
    "        'objective': 'binary:logistic',\n",
    "        'eval_metric': 'logloss',\n",
    "        'verbosity': 0,\n",
    "        'booster': 'gbtree',\n",
    "        'lambda': trial.suggest_float('lambda', 1e-3, 10.0, log=True),\n",
    "        'alpha': trial.suggest_float('alpha', 1e-3, 10.0, log=True),\n",
    "        'subsample': trial.suggest_float('subsample', 0.4, 1.0),\n",
    "        'colsample_bytree': trial.suggest_float('colsample_bytree', 0.4, 1.0),\n",
    "        'max_depth': trial.suggest_int('max_depth', 3, 10),\n",
    "        'eta': trial.suggest_float('eta', 0.01, 0.3),\n",
    "        'gamma': trial.suggest_float('gamma', 0, 10),\n",
    "        'scale_pos_weight': trial.suggest_float('scale_pos_weight', 1, 10),\n",
    "        'min_child_weight': trial.suggest_int('min_child_weight', 1, 10),\n",
    "        'max_delta_step': trial.suggest_int('max_delta_step', 0, 10)\n",
    "    }\n",
    "\n",
    "    model = XGBClassifier(**param)\n",
    "\n",
    "    # Calculate the cross-validated f1_score\n",
    "    f1_scorer = make_scorer(f1_score, average='macro')\n",
    "    scores = cross_val_score(model, X_train_smt, y_train_smt, cv=3, scoring=f1_scorer, n_jobs=-1)\n",
    "\n",
    "    return np.mean(scores)\n",
    "\n",
    "study_xgb = optuna.create_study(direction='maximize')\n",
    "study_xgb.optimize(objective, n_trials=50)"
   ]
  },
  {
   "cell_type": "code",
   "execution_count": null,
   "id": "f0b9672e-2855-4fc6-a3a4-25071bfda494",
   "metadata": {},
   "outputs": [],
   "source": [
    "print('Best trial:')\n",
    "trial = study_xgb.best_trial\n",
    "print('  F1-score: {}'.format(trial.value))\n",
    "print('  Params: ')\n",
    "for key, value in trial.params.items():\n",
    "    print('    {}: {}'.format(key, value))\n",
    "\n",
    "best_params = study_xgb.best_params\n",
    "best_model_xgb = XGBClassifier(**best_params)\n",
    "best_model_xgb.fit(X_train_smt, y_train_smt)\n",
    "\n",
    "# Evaluate on the test set\n",
    "y_pred = best_model_xgb.predict(X_test_encoded)\n",
    "\n",
    "report = classification_report(y_test, y_pred)\n",
    "print(report)"
   ]
  },
  {
   "cell_type": "markdown",
   "id": "db373ed7-a031-4cd1-8132-c9a84e82fbbd",
   "metadata": {},
   "source": [
    "Since there is not much difference between XGB and Logistic, let's choose LogisticRegression because it has a better interpretation."
   ]
  },
  {
   "cell_type": "markdown",
   "id": "cb2ce1fc-847b-4b37-b781-22b44f1fe9df",
   "metadata": {},
   "source": [
    "## Model Evaluation : ROC/AUC"
   ]
  },
  {
   "cell_type": "code",
   "execution_count": null,
   "id": "4f666b05-1cca-420f-ad57-fcd7d2b959f5",
   "metadata": {},
   "outputs": [],
   "source": [
    "# logistic regression/ SMOTE Tomek with Optuna best parameters\n",
    "y_pred = best_model_logistic.predict(X_test_encoded)\n",
    "# classification report\n",
    "report = classification_report(y_test, y_pred)\n",
    "print(report)"
   ]
  },
  {
   "cell_type": "code",
   "execution_count": null,
   "id": "6adc55f8-29c1-4a3d-af2d-ad914ac2e5bc",
   "metadata": {},
   "outputs": [],
   "source": [
    "# Get predicted probabilities for the positive class (class = 1)\n",
    "probabilities = best_model_logistic.predict_proba(X_test_encoded)[:, 1]\n",
    "\n",
    "# Compute False Positive Rate (fpr), True Positive Rate (tpr), and thresholds \n",
    "# for different cutoff values using ROC curve\n",
    "fpr, tpr, thresholds = roc_curve(y_test, probabilities)\n",
    "\n",
    "# Display the first 5 values of fpr, tpr, and thresholds\n",
    "fpr[:5], tpr[:5], thresholds[:5]"
   ]
  },
  {
   "cell_type": "code",
   "execution_count": null,
   "id": "1fa50b36-f970-4244-bf6e-341d22f83402",
   "metadata": {},
   "outputs": [],
   "source": [
    "# Calculate the Area Under the Curve (AUC) for the ROC curve\n",
    "area = auc(fpr, tpr)\n",
    "area"
   ]
  },
  {
   "cell_type": "code",
   "execution_count": null,
   "id": "555f5331-087f-4df5-b684-ca87074d6296",
   "metadata": {},
   "outputs": [],
   "source": [
    "# plot ROC curve\n",
    "plt.figure()\n",
    "plt.plot(fpr, tpr, color='darkorange', lw=2, label='ROC curve (area = %0.2f)' % area)\n",
    "plt.plot([0, 1], [0, 1], color='navy', lw=2, linestyle='--')\n",
    "plt.xlim([0.0, 1.0])\n",
    "plt.ylim([0.0, 1.05])\n",
    "plt.xlabel('False Positive Rate')\n",
    "plt.ylabel('True Positive Rate')\n",
    "plt.title('Receiver Operating Characteristic')\n",
    "plt.legend(loc=\"lower right\")\n",
    "plt.show()"
   ]
  },
  {
   "cell_type": "markdown",
   "id": "4394d90d-55ac-483a-9d5f-a556e89d09d2",
   "metadata": {},
   "source": [
    "#### Finalize The Model and Visualize Feature Importance"
   ]
  },
  {
   "cell_type": "code",
   "execution_count": null,
   "id": "f3144e81-4edb-44f1-8bb4-9b3a7808bd3f",
   "metadata": {},
   "outputs": [],
   "source": [
    "final_model = best_model_logistic\n",
    "\n",
    "feature_importance = final_model.coef_[0]\n",
    "\n",
    "# Create a DataFrame for easier handling\n",
    "coef_df = pd.DataFrame(feature_importance, index=X_train_encoded.columns, columns=['Coefficients'])\n",
    "\n",
    "# Sort the coefficients for better visualization\n",
    "coef_df = coef_df.sort_values(by='Coefficients', ascending=True)\n",
    "\n",
    "# Plotting\n",
    "plt.figure(figsize=(8, 4))\n",
    "plt.barh(coef_df.index, coef_df['Coefficients'], color='steelblue')\n",
    "plt.xlabel('Coefficient Value')\n",
    "plt.title('Feature Importance in Logistic Regression')\n",
    "plt.show()"
   ]
  },
  {
   "cell_type": "code",
   "execution_count": null,
   "id": "a8af034d-5701-420b-8f49-d5c09c2c0e3f",
   "metadata": {},
   "outputs": [],
   "source": [
    "# final model coefficients and intercept\n",
    "final_model.coef_, final_model.intercept_"
   ]
  },
  {
   "cell_type": "markdown",
   "id": "d4ff6776-0c2d-470a-90d0-8634e3be630b",
   "metadata": {},
   "source": [
    "### Save the Model"
   ]
  },
  {
   "cell_type": "code",
   "execution_count": null,
   "id": "365cd839-330e-47fc-97a6-9adcf3c6c5bb",
   "metadata": {},
   "outputs": [],
   "source": [
    "model_data = {\n",
    "    'model': final_model,\n",
    "    'features': X_train_encoded.columns,\n",
    "    'scaler': scaler,\n",
    "    'cols_to_scale': cols_to_scale\n",
    "}\n",
    "dump(model_data, 'model_data.joblib')"
   ]
  }
 ],
 "metadata": {
  "kernelspec": {
   "display_name": "Python 3 (ipykernel)",
   "language": "python",
   "name": "python3"
  },
  "language_info": {
   "codemirror_mode": {
    "name": "ipython",
    "version": 3
   },
   "file_extension": ".py",
   "mimetype": "text/x-python",
   "name": "python",
   "nbconvert_exporter": "python",
   "pygments_lexer": "ipython3",
   "version": "3.10.11"
  }
 },
 "nbformat": 4,
 "nbformat_minor": 5
}
